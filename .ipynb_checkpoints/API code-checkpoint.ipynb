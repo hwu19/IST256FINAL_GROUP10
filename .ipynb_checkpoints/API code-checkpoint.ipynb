{
 "cells": [
  {
   "cell_type": "code",
   "execution_count": 1,
   "metadata": {},
   "outputs": [
    {
     "name": "stdout",
     "output_type": "stream",
     "text": [
      "Requirement already satisfied: webhoseio in c:\\users\\whzee\\appdata\\local\\programs\\python\\python36\\lib\\site-packages (0.5)\n",
      "Requirement already satisfied: requests>=2.0.0 in c:\\users\\whzee\\appdata\\local\\programs\\python\\python36\\lib\\site-packages (from webhoseio) (2.19.1)\n",
      "Requirement already satisfied: urllib3<1.24,>=1.21.1 in c:\\users\\whzee\\appdata\\local\\programs\\python\\python36\\lib\\site-packages (from requests>=2.0.0->webhoseio) (1.23)\n",
      "Requirement already satisfied: idna<2.8,>=2.5 in c:\\users\\whzee\\appdata\\local\\programs\\python\\python36\\lib\\site-packages (from requests>=2.0.0->webhoseio) (2.7)\n",
      "Requirement already satisfied: chardet<3.1.0,>=3.0.2 in c:\\users\\whzee\\appdata\\local\\programs\\python\\python36\\lib\\site-packages (from requests>=2.0.0->webhoseio) (3.0.4)\n",
      "Requirement already satisfied: certifi>=2017.4.17 in c:\\users\\whzee\\appdata\\local\\programs\\python\\python36\\lib\\site-packages (from requests>=2.0.0->webhoseio) (2018.8.24)\n"
     ]
    },
    {
     "name": "stderr",
     "output_type": "stream",
     "text": [
      "You are using pip version 18.0, however version 18.1 is available.\n",
      "You should consider upgrading via the 'python -m pip install --upgrade pip' command.\n"
     ]
    }
   ],
   "source": [
    "!pip install webhoseio\n",
    "\n",
    "\n",
    "\n",
    "\n",
    "\n",
    "\n"
   ]
  },
  {
   "cell_type": "code",
   "execution_count": 2,
   "metadata": {},
   "outputs": [],
   "source": [
    "import requests\n",
    "import webhoseio\n",
    "webhoseio.config(token = '2e4a06a6-548b-4784-b798-7f48efbdb38b')\n",
    "from bs4 import BeautifulSoup\n",
    "\n",
    "\n",
    "class Session(object):\n",
    "\n",
    "    def __init__(self, token=None):\n",
    "        self.next_call = None\n",
    "        self.session = requests.Session()\n",
    "        self.token = token\n",
    "\n",
    "    def query(self, end_point_str, param_dict=None):\n",
    "\n",
    "        if param_dict is not None:\n",
    "            param_dict.update({\"token\": self.token})\n",
    "            param_dict.update({\"format\": \"json\"})\n",
    "       \n",
    "        response = self.session.get(\"http://webhose.io/\" + end_point_str, params=param_dict)\n",
    "        if response.status_code != 200:\n",
    "            raise Exception(response.text)\n",
    "\n",
    "        _output = response.json()\n",
    "        self.next_call = _output['next']\n",
    "        return _output\n",
    "\n",
    "    def get_next(self):\n",
    "        return self.query(self.next_call[1:])\n",
    "\n",
    "\n",
    "__session = Session()\n",
    "\n",
    "\n",
    "def config(token):\n",
    "    __session.token = token\n",
    "\n",
    "\n",
    "def query(end_point_str, param_dict=None):\n",
    "    return __session.query(end_point_str, param_dict)\n",
    "\n",
    "\n",
    "def get_next():\n",
    "    return __session.get_next()\n",
    "\n",
    "def get_html_from_nasdaq(Input):\n",
    "    url = 'http://www.nasdaq.com/symbol/' + Input\n",
    "    response = requests.get(url)\n",
    "    if response.ok:\n",
    "        return response.text\n",
    "    else:\n",
    "        return \"Error retrieving \" + url\n"
   ]
  },
  {
   "cell_type": "code",
   "execution_count": null,
   "metadata": {
    "scrolled": true
   },
   "outputs": [
    {
     "name": "stdout",
     "output_type": "stream",
     "text": [
      "Enter what you want to know: apple\n",
      "For stock information, please input the stock ticker\n",
      "No new info found, searching....\n",
      "For stock information, please input the stock ticker\n",
      "Recent news: Hino updates XL Series, COEs, online resources , from: trailer-bodybuilders.com\n",
      "Hino updates XL Series, COEs, online resources Hino Trucks highlighted its revamped XL Series trucks for the 2020 model year, cab-over-engine (COE) product updates and new body builder resources. The 2020 XL lineup includes the XL7, with a gross vehicle weight rating (GVWR) of 33,000 pounds or less, and XL8, with a GVWR of 33,001 lbs or more. Both are available as straight trucks or tractors. Production was expected to begin in the first quarter of 2019. XL Series specifications include a Hino six-cylinder A09 diesel engine with up to 360 horsepower and 1,150 pound-feet of torque, three Allison and two Eaton transmission options, and numerous frame rail and wheelbase options. The chassis features Dana axles and Hendrickson suspensions, both available with several different weight ratings, and brakes by WABCO and Bendix. Body integration and electrical updates include a customizable dash panel. Hino says a flat primary surface from the factory allows for the addition of auxiliary equipment, such as switches and power outlets, and the rear of the panel is embossed with popular switch insert options, allowing for “premium” customer interface during multi-stage vehicle production. The XL chassis also features multiple interior and exterior electrical interfaces. Conventional product updates include an AT shift inhibitor for the 2020 AT model, cruise control disable for all 2020 models, and an available Muncie PTO plug-and-play harness that doesn’t require cutting or splicing, resulting in less labor and optimized routing during installation. COE updates for 2020 include an improved wide mirror stay option and customizable cruise control disable for all models. The new stay is 21% longer than Hino’s current offering. Changes to the PTO switch in 155 and 195 COE models include an integrated indicator light (previously a separate indicator was installed), and a new sub harness ground wire with ring terminal. New resources include an updated COE body builder chart and a Hino augmented reality app available in the Apple app store. Access hinobodybuilder.com for more information.\n"
     ]
    }
   ],
   "source": [
    "import time\n",
    "\n",
    "starttime=time.time()\n",
    "Input = str(input('Enter what you want to know: '))\n",
    "\n",
    "while True:\n",
    "    try:\n",
    "        get_html_from_nasdaq(Input)\n",
    "        soup = BeautifulSoup(get_html_from_nasdaq(Input), \"lxml\")\n",
    "        name = soup.select(\"div#qwidget_pageheader h1\")[0].text\n",
    "        price = soup.select(\"div#qwidget_lastsale\")[0].text\n",
    "        change = soup.select(\"div#qwidget_percent\")[0].text\n",
    "        print(name,price,change)\n",
    "    \n",
    "    except IndexError:\n",
    "        print('For stock information, please input the stock ticker')\n",
    "    \n",
    "    output = webhoseio.query(\"filterWebContent\", {\"q\":Input})\n",
    "    \n",
    "    if output['posts'][0]['thread']['country'] == 'US':\n",
    "        print('Recent news:',\n",
    "              output['posts'][0]['thread']['title'],\",\",\n",
    "              'from:',\n",
    "              output['posts'][0]['thread']['site'],)\n",
    "        print(output['posts'][0]['text'])\n",
    "    else:\n",
    "        print('No new info found, searching....')\n",
    "    \n",
    "    time.sleep(300.0 - ((time.time() - starttime) % 300.0))\n",
    "    \n",
    "    \n",
    "    \n",
    "    \n",
    "    \n",
    "\n",
    "\n",
    "\n"
   ]
  },
  {
   "cell_type": "code",
   "execution_count": null,
   "metadata": {},
   "outputs": [
    {
     "name": "stdout",
     "output_type": "stream",
     "text": [
      "Enter what you want to know: skyrim\n"
     ]
    }
   ],
   "source": [
    "       \n",
    "        \n",
    "\n",
    "    \n",
    "    \n",
    "    \n",
    "    \n",
    "    \n",
    "    \n",
    "    \n",
    "    \n",
    "    \n",
    "    \n",
    "    \n",
    "    \n",
    "    \n",
    "             \n",
    "             \n",
    "             \n",
    " \n",
    " \n",
    " \n",
    " \n",
    " \n",
    " \n",
    " \n",
    " \n",
    " \n",
    " \n",
    " "
   ]
  },
  {
   "cell_type": "code",
   "execution_count": null,
   "metadata": {},
   "outputs": [],
   "source": []
  },
  {
   "cell_type": "code",
   "execution_count": null,
   "metadata": {},
   "outputs": [],
   "source": []
  }
 ],
 "metadata": {
  "kernelspec": {
   "display_name": "Python 3",
   "language": "python",
   "name": "python3"
  },
  "language_info": {
   "codemirror_mode": {
    "name": "ipython",
    "version": 3
   },
   "file_extension": ".py",
   "mimetype": "text/x-python",
   "name": "python",
   "nbconvert_exporter": "python",
   "pygments_lexer": "ipython3",
   "version": "3.6.6"
  }
 },
 "nbformat": 4,
 "nbformat_minor": 2
}
