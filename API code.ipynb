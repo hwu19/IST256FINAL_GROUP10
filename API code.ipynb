{
 "cells": [
  {
   "cell_type": "code",
   "execution_count": 1,
   "metadata": {},
   "outputs": [
    {
     "name": "stdout",
     "output_type": "stream",
     "text": [
      "Requirement already satisfied: webhoseio in c:\\users\\whzee\\appdata\\local\\programs\\python\\python36\\lib\\site-packages (0.5)\n",
      "Requirement already satisfied: requests>=2.0.0 in c:\\users\\whzee\\appdata\\local\\programs\\python\\python36\\lib\\site-packages (from webhoseio) (2.19.1)\n",
      "Requirement already satisfied: idna<2.8,>=2.5 in c:\\users\\whzee\\appdata\\local\\programs\\python\\python36\\lib\\site-packages (from requests>=2.0.0->webhoseio) (2.7)\n",
      "Requirement already satisfied: urllib3<1.24,>=1.21.1 in c:\\users\\whzee\\appdata\\local\\programs\\python\\python36\\lib\\site-packages (from requests>=2.0.0->webhoseio) (1.23)\n",
      "Requirement already satisfied: chardet<3.1.0,>=3.0.2 in c:\\users\\whzee\\appdata\\local\\programs\\python\\python36\\lib\\site-packages (from requests>=2.0.0->webhoseio) (3.0.4)\n",
      "Requirement already satisfied: certifi>=2017.4.17 in c:\\users\\whzee\\appdata\\local\\programs\\python\\python36\\lib\\site-packages (from requests>=2.0.0->webhoseio) (2018.8.24)\n"
     ]
    },
    {
     "name": "stderr",
     "output_type": "stream",
     "text": [
      "You are using pip version 18.0, however version 18.1 is available.\n",
      "You should consider upgrading via the 'python -m pip install --upgrade pip' command.\n"
     ]
    },
    {
     "name": "stdout",
     "output_type": "stream",
     "text": [
      "Requirement already satisfied: pandas_datareader in c:\\users\\whzee\\appdata\\local\\programs\\python\\python36\\lib\\site-packages (0.7.0)\n",
      "Requirement already satisfied: wrapt in c:\\users\\whzee\\appdata\\local\\programs\\python\\python36\\lib\\site-packages (from pandas_datareader) (1.10.11)\n",
      "Requirement already satisfied: lxml in c:\\users\\whzee\\appdata\\local\\programs\\python\\python36\\lib\\site-packages (from pandas_datareader) (4.2.5)\n",
      "Requirement already satisfied: requests>=2.3.0 in c:\\users\\whzee\\appdata\\local\\programs\\python\\python36\\lib\\site-packages (from pandas_datareader) (2.19.1)\n",
      "Requirement already satisfied: pandas>=0.19.2 in c:\\users\\whzee\\appdata\\local\\programs\\python\\python36\\lib\\site-packages (from pandas_datareader) (0.23.4)\n",
      "Requirement already satisfied: urllib3<1.24,>=1.21.1 in c:\\users\\whzee\\appdata\\local\\programs\\python\\python36\\lib\\site-packages (from requests>=2.3.0->pandas_datareader) (1.23)\n",
      "Requirement already satisfied: certifi>=2017.4.17 in c:\\users\\whzee\\appdata\\local\\programs\\python\\python36\\lib\\site-packages (from requests>=2.3.0->pandas_datareader) (2018.8.24)\n",
      "Requirement already satisfied: idna<2.8,>=2.5 in c:\\users\\whzee\\appdata\\local\\programs\\python\\python36\\lib\\site-packages (from requests>=2.3.0->pandas_datareader) (2.7)\n",
      "Requirement already satisfied: chardet<3.1.0,>=3.0.2 in c:\\users\\whzee\\appdata\\local\\programs\\python\\python36\\lib\\site-packages (from requests>=2.3.0->pandas_datareader) (3.0.4)\n",
      "Requirement already satisfied: python-dateutil>=2.5.0 in c:\\users\\whzee\\appdata\\local\\programs\\python\\python36\\lib\\site-packages (from pandas>=0.19.2->pandas_datareader) (2.7.3)\n",
      "Requirement already satisfied: numpy>=1.9.0 in c:\\users\\whzee\\appdata\\local\\programs\\python\\python36\\lib\\site-packages (from pandas>=0.19.2->pandas_datareader) (1.15.2)\n",
      "Requirement already satisfied: pytz>=2011k in c:\\users\\whzee\\appdata\\local\\programs\\python\\python36\\lib\\site-packages (from pandas>=0.19.2->pandas_datareader) (2018.5)\n",
      "Requirement already satisfied: six>=1.5 in c:\\users\\whzee\\appdata\\local\\programs\\python\\python36\\lib\\site-packages (from python-dateutil>=2.5.0->pandas>=0.19.2->pandas_datareader) (1.11.0)\n"
     ]
    },
    {
     "name": "stderr",
     "output_type": "stream",
     "text": [
      "You are using pip version 18.0, however version 18.1 is available.\n",
      "You should consider upgrading via the 'python -m pip install --upgrade pip' command.\n"
     ]
    }
   ],
   "source": [
    "!pip install webhoseio\n",
    "!pip install pandas_datareader\n",
    "\n",
    "\n",
    "\n",
    "\n",
    "\n",
    "\n",
    "\n",
    "\n"
   ]
  },
  {
   "cell_type": "code",
   "execution_count": 2,
   "metadata": {},
   "outputs": [],
   "source": [
    "import requests\n",
    "import webhoseio\n",
    "webhoseio.config(token = '2e4a06a6-548b-4784-b798-7f48efbdb38b')\n",
    "from bs4 import BeautifulSoup\n",
    "import pandas as pd\n",
    "from pandas_datareader import data as web\n",
    "import datetime\n",
    "\n",
    "\n",
    "\n",
    "class Session(object):\n",
    "\n",
    "    def __init__(self, token=None):\n",
    "        self.next_call = None\n",
    "        self.session = requests.Session()\n",
    "        self.token = token\n",
    "\n",
    "    def query(self, end_point_str, param_dict=None):\n",
    "\n",
    "        if param_dict is not None:\n",
    "            param_dict.update({\"token\": self.token})\n",
    "            param_dict.update({\"format\": \"json\"})\n",
    "       \n",
    "        response = self.session.get(\"http://webhose.io/\" + end_point_str, params=param_dict)\n",
    "        if response.status_code != 200:\n",
    "            raise Exception(response.text)\n",
    "\n",
    "        _output = response.json()\n",
    "        self.next_call = _output['next']\n",
    "        return _output\n",
    "\n",
    "    def get_next(self):\n",
    "        return self.query(self.next_call[1:])\n",
    "\n",
    "\n",
    "__session = Session()\n",
    "\n",
    "\n",
    "def config(token):\n",
    "    __session.token = token\n",
    "\n",
    "\n",
    "def query(end_point_str, param_dict=None):\n",
    "    return __session.query(end_point_str, param_dict)\n",
    "\n",
    "\n",
    "def get_next():\n",
    "    return __session.get_next()\n",
    "\n",
    "def get_html_from_nasdaq(Input):\n",
    "    url = 'http://www.nasdaq.com/symbol/' + Input\n",
    "    response = requests.get(url)\n",
    "    if response.ok:\n",
    "        return response.text\n",
    "    else:\n",
    "        return \"Error retrieving \" + url\n",
    "    \n",
    "    \n",
    "\n",
    "    \n",
    "    \n",
    "    \n",
    "    \n",
    "    \n",
    "    "
   ]
  },
  {
   "cell_type": "code",
   "execution_count": null,
   "metadata": {},
   "outputs": [
    {
     "name": "stdout",
     "output_type": "stream",
     "text": [
      "Enter what you want to know: TSLA\n",
      "Tesla, Inc. Common Stock (TSLA) Quote & Summary Data $376.79 2.78%\n",
      "Recent news: Elon Musk broke one of Tesla's biggest Autopilot rules in a TV interview (TSLA) , from: blogspot.com\n",
      "No comments Tesla tells owners they must keep their hands on the wheel at all times when using Autopilot , the automaker's semi-autonomous driver-assistance feature. But Tesla CEO Elon Musk kept his hands off the wheel after activating Autopilot in a Model 3 sedan during a \"60 Minutes\" interview that aired on Sunday. Tesla did not immediately respond to Business Insider's request for comment.\n",
      "Tesla tells owners they must keep their hands on the wheel at all times when using Autopilot, the automaker's semi-autonomous driver-assistance feature. But Tesla CEO Elon Musk kept his hands off the wheel after activating Autopilot in a Model 3 sedan during a \"60 Minutes\" interview that aired on Sunday.\n",
      "The Model 3 owner's manual calls Autopilot's ability to control a vehicle's speed and steering under some circumstances \"a hands-on feature\" and instructs owners to keep their hands on the wheel when using it.\n",
      "\"You must keep your hands on the steering wheel at all times,\" the manual says.\n",
      "Read more: I tried Tesla's new Autopilot feature that helps navigate during highway driving to see if it's helpful — here's the verdict\n",
      "During the \"60 Minutes\" interview, Musk removes his hands from the steering wheel after activating Autopilot. He does not hold the steering wheel with either of his hands for the rest of the segment.\n",
      "Musk also used Autopilot without keeping his hands on the wheel during an interview with CBS This Morning that aired in April.\n",
      "Tesla did not immediately respond to Business Insider's request for comment.\n",
      "Read more: Tesla's Autopilot used to give the company a huge advantage — but now it's becoming a problem\n",
      "Tesla has received criticism for how it has promoted Autopilot, and fatal accidents involving the feature have raised questions about whether drivers place too much trust in it and fail to pay attention to the road. Tesla says Autopilot is meant to be used with an attentive driver whose hands are on the wheel, but the most visible accidents involving Autopilot have included reports of distracted drivers .\n",
      "Tesla has pointed to statistics from the National Highway Traffic Safety Administration (NHTSA) that indicate Autopilot reduces the likelihood of a vehicle being in an accident, but the NHTSA told Ars Technica in May that a study Tesla has cited did not necessarily prove or disprove that Autopilot reduced accident rates.\n",
      "In October, Consumer Reports released its rankings of four semi-autonomous driver-assistance systems and ranked Autopilot second, behind Cadillac's Super Cruise. Autopilot received the highest rating for capability and performance and ease of use but received the lowest rating for keeping drivers engaged. Watch Elon Musk's full \"60 Minutes\" interview here .\n",
      "Have a Tesla news tip? Contact this reporter at .\n",
      "Tesla, Inc. Common Stock (TSLA) Quote & Summary Data $376.79 2.78%\n",
      "Recent news: Elon Musk broke one of Tesla's biggest Autopilot rules in a TV interview (TSLA) , from: blogspot.com\n",
      "No comments Tesla tells owners they must keep their hands on the wheel at all times when using Autopilot , the automaker's semi-autonomous driver-assistance feature. But Tesla CEO Elon Musk kept his hands off the wheel after activating Autopilot in a Model 3 sedan during a \"60 Minutes\" interview that aired on Sunday. Tesla did not immediately respond to Business Insider's request for comment.\n",
      "Tesla tells owners they must keep their hands on the wheel at all times when using Autopilot, the automaker's semi-autonomous driver-assistance feature. But Tesla CEO Elon Musk kept his hands off the wheel after activating Autopilot in a Model 3 sedan during a \"60 Minutes\" interview that aired on Sunday.\n",
      "The Model 3 owner's manual calls Autopilot's ability to control a vehicle's speed and steering under some circumstances \"a hands-on feature\" and instructs owners to keep their hands on the wheel when using it.\n",
      "\"You must keep your hands on the steering wheel at all times,\" the manual says.\n",
      "Read more: I tried Tesla's new Autopilot feature that helps navigate during highway driving to see if it's helpful — here's the verdict\n",
      "During the \"60 Minutes\" interview, Musk removes his hands from the steering wheel after activating Autopilot. He does not hold the steering wheel with either of his hands for the rest of the segment.\n",
      "Musk also used Autopilot without keeping his hands on the wheel during an interview with CBS This Morning that aired in April.\n",
      "Tesla did not immediately respond to Business Insider's request for comment.\n",
      "Read more: Tesla's Autopilot used to give the company a huge advantage — but now it's becoming a problem\n",
      "Tesla has received criticism for how it has promoted Autopilot, and fatal accidents involving the feature have raised questions about whether drivers place too much trust in it and fail to pay attention to the road. Tesla says Autopilot is meant to be used with an attentive driver whose hands are on the wheel, but the most visible accidents involving Autopilot have included reports of distracted drivers .\n",
      "Tesla has pointed to statistics from the National Highway Traffic Safety Administration (NHTSA) that indicate Autopilot reduces the likelihood of a vehicle being in an accident, but the NHTSA told Ars Technica in May that a study Tesla has cited did not necessarily prove or disprove that Autopilot reduced accident rates.\n",
      "In October, Consumer Reports released its rankings of four semi-autonomous driver-assistance systems and ranked Autopilot second, behind Cadillac's Super Cruise. Autopilot received the highest rating for capability and performance and ease of use but received the lowest rating for keeping drivers engaged. Watch Elon Musk's full \"60 Minutes\" interview here .\n",
      "Have a Tesla news tip? Contact this reporter at .\n",
      "Tesla, Inc. Common Stock (TSLA) Quote & Summary Data $376.79 2.78%\n",
      "Recent news: Elon Musk broke one of Tesla's biggest Autopilot rules in a TV interview (TSLA) , from: blogspot.com\n",
      "No comments Tesla tells owners they must keep their hands on the wheel at all times when using Autopilot , the automaker's semi-autonomous driver-assistance feature. But Tesla CEO Elon Musk kept his hands off the wheel after activating Autopilot in a Model 3 sedan during a \"60 Minutes\" interview that aired on Sunday. Tesla did not immediately respond to Business Insider's request for comment.\n",
      "Tesla tells owners they must keep their hands on the wheel at all times when using Autopilot, the automaker's semi-autonomous driver-assistance feature. But Tesla CEO Elon Musk kept his hands off the wheel after activating Autopilot in a Model 3 sedan during a \"60 Minutes\" interview that aired on Sunday.\n",
      "The Model 3 owner's manual calls Autopilot's ability to control a vehicle's speed and steering under some circumstances \"a hands-on feature\" and instructs owners to keep their hands on the wheel when using it.\n",
      "\"You must keep your hands on the steering wheel at all times,\" the manual says.\n",
      "Read more: I tried Tesla's new Autopilot feature that helps navigate during highway driving to see if it's helpful — here's the verdict\n",
      "During the \"60 Minutes\" interview, Musk removes his hands from the steering wheel after activating Autopilot. He does not hold the steering wheel with either of his hands for the rest of the segment.\n",
      "Musk also used Autopilot without keeping his hands on the wheel during an interview with CBS This Morning that aired in April.\n",
      "Tesla did not immediately respond to Business Insider's request for comment.\n",
      "Read more: Tesla's Autopilot used to give the company a huge advantage — but now it's becoming a problem\n",
      "Tesla has received criticism for how it has promoted Autopilot, and fatal accidents involving the feature have raised questions about whether drivers place too much trust in it and fail to pay attention to the road. Tesla says Autopilot is meant to be used with an attentive driver whose hands are on the wheel, but the most visible accidents involving Autopilot have included reports of distracted drivers .\n",
      "Tesla has pointed to statistics from the National Highway Traffic Safety Administration (NHTSA) that indicate Autopilot reduces the likelihood of a vehicle being in an accident, but the NHTSA told Ars Technica in May that a study Tesla has cited did not necessarily prove or disprove that Autopilot reduced accident rates.\n",
      "In October, Consumer Reports released its rankings of four semi-autonomous driver-assistance systems and ranked Autopilot second, behind Cadillac's Super Cruise. Autopilot received the highest rating for capability and performance and ease of use but received the lowest rating for keeping drivers engaged. Watch Elon Musk's full \"60 Minutes\" interview here .\n",
      "Have a Tesla news tip? Contact this reporter at .\n"
     ]
    },
    {
     "name": "stdout",
     "output_type": "stream",
     "text": [
      "Tesla, Inc. Common Stock (TSLA) Quote & Summary Data $376.79 2.78%\n"
     ]
    }
   ],
   "source": [
    "import time\n",
    "\n",
    "starttime=time.time()\n",
    "Input = str(input('Enter what you want to know: '))\n",
    "\n",
    "while True:\n",
    "    try:\n",
    "        get_html_from_nasdaq(Input)\n",
    "        soup = BeautifulSoup(get_html_from_nasdaq(Input), \"lxml\")\n",
    "        name = soup.select(\"div#qwidget_pageheader h1\")[0].text\n",
    "        price = soup.select(\"div#qwidget_lastsale\")[0].text\n",
    "        change = soup.select(\"div#qwidget_percent\")[0].text\n",
    "        print(name,price,change)\n",
    "    \n",
    "    except IndexError:\n",
    "        print('For stock information, please input the stock ticker')\n",
    "\n",
    "    \n",
    "    output = webhoseio.query(\"filterWebContent\", {\"q\":Input})\n",
    "    \n",
    "    if output['posts'][0]['thread']['country'] == 'US':\n",
    "        print('Recent news:',\n",
    "              output['posts'][0]['thread']['title'],\",\",\n",
    "              'from:',\n",
    "              output['posts'][0]['thread']['site'],)\n",
    "        print(output['posts'][0]['text'])\n",
    "    else:\n",
    "        print('No new info found, searching....')\n",
    "        \n",
    "    \n",
    "    time.sleep(300.0 - ((time.time() - starttime) % 300.0))\n",
    "    \n",
    "    \n",
    "    \n",
    "    \n",
    "\n",
    "  \n",
    "\n",
    "\n",
    "    \n",
    "    \n",
    "\n",
    "    \n",
    "    \n",
    "    \n",
    "    \n",
    "    \n",
    "\n",
    "\n",
    "\n"
   ]
  },
  {
   "cell_type": "code",
   "execution_count": 3,
   "metadata": {},
   "outputs": [
    {
     "name": "stdout",
     "output_type": "stream",
     "text": [
      "Enter a stock ticker: tsla\n"
     ]
    },
    {
     "data": {
      "text/plain": [
       "<matplotlib.axes._subplots.AxesSubplot at 0x1f780716358>"
      ]
     },
     "execution_count": 3,
     "metadata": {},
     "output_type": "execute_result"
    },
    {
     "data": {
      "image/png": "[encoded data removed]",
      "text/plain": [
       "<Figure size 432x288 with 1 Axes>"
      ]
     },
     "metadata": {
      "needs_background": "light"
     },
     "output_type": "display_data"
    }
   ],
   "source": [
    "start = datetime.datetime(2017,12,13)\n",
    "end = datetime.date.today()\n",
    "\n",
    "ticker =input(\"Enter a stock ticker: \")\n",
    "stock = web.DataReader(ticker, \"yahoo\", start, end)\n",
    "\n",
    "import matplotlib.pyplot as plt\n",
    "%matplotlib inline\n",
    "\n",
    "stock[\"Close\"].plot(grid = True) \n",
    "\n",
    "\n",
    "        \n",
    "\n",
    "    \n",
    "    \n",
    "    \n",
    "    \n",
    "    \n",
    "    \n",
    "    \n",
    "    \n",
    "    \n",
    "    \n",
    "    \n",
    "    \n",
    "    \n",
    "             \n",
    "             \n",
    "             \n",
    " \n",
    " \n",
    " \n",
    " \n",
    " \n",
    " \n",
    " \n",
    " \n",
    " \n",
    " \n",
    " "
   ]
  },
  {
   "cell_type": "markdown",
   "metadata": {},
   "source": []
  },
  {
   "cell_type": "code",
   "execution_count": null,
   "metadata": {},
   "outputs": [],
   "source": []
  }
 ],
 "metadata": {
  "kernelspec": {
   "display_name": "Python 3",
   "language": "python",
   "name": "python3"
  },
  "language_info": {
   "codemirror_mode": {
    "name": "ipython",
    "version": 3
   },
   "file_extension": ".py",
   "mimetype": "text/x-python",
   "name": "python",
   "nbconvert_exporter": "python",
   "pygments_lexer": "ipython3",
   "version": "3.6.6"
  }
 },
 "nbformat": 4,
 "nbformat_minor": 2
}
